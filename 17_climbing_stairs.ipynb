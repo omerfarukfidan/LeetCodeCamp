{
 "cells": [
  {
   "cell_type": "code",
   "execution_count": null,
   "id": "initial_id",
   "metadata": {
    "collapsed": true
   },
   "outputs": [],
   "source": [
    "\"\"\"\n",
    "https://leetcode.com/problems/climbing-stairs/description/\n",
    "70. Climbing Stairs\n",
    "Easy\n",
    "Topics\n",
    "Companies\n",
    "Hint\n",
    "You are climbing a staircase. It takes n steps to reach the top.\n",
    "\n",
    "Each time you can either climb 1 or 2 steps. In how many distinct ways can you climb to the top?\n",
    "\n",
    "\n",
    "\n",
    "Example 1:\n",
    "\n",
    "Input: n = 2\n",
    "Output: 2\n",
    "Explanation: There are two ways to climb to the top.\n",
    "1. 1 step + 1 step\n",
    "2. 2 steps\n",
    "Example 2:\n",
    "\n",
    "Input: n = 3\n",
    "Output: 3\n",
    "Explanation: There are three ways to climb to the top.\n",
    "1. 1 step + 1 step + 1 step\n",
    "2. 1 step + 2 steps\n",
    "3. 2 steps + 1 step\n",
    "\n",
    "\n",
    "Constraints:\n",
    "\n",
    "1 <= n <= 45\n",
    "\"\"\""
   ]
  },
  {
   "metadata": {},
   "cell_type": "code",
   "outputs": [],
   "execution_count": null,
   "source": [
    "#VIDES SOLUTION DYNAMIC PROGRAMING\n",
    "\n",
    "class Solution:\n",
    "    def climbStairs(self, n: int) -> int:\n",
    "        dp = [0] * (n+1) #dp[0]’dan dp[n]’e kadar toplam n+1 adet değer tutacağımız için, listenin de n+1 elemanlı olması gerekiyor.\n",
    "        dp[0] = 0\n",
    "        dp[1] = 1\n",
    "        if n >= 2:\n",
    "            dp[2] = 2\n",
    "\n",
    "        for i in range(3, n+1):\n",
    "            dp[i] = dp[i-2] + dp[i-1]\n",
    "        return dp[n]"
   ],
   "id": "2f3de1c7f4cda957"
  }
 ],
 "metadata": {
  "kernelspec": {
   "display_name": "Python 3",
   "language": "python",
   "name": "python3"
  },
  "language_info": {
   "codemirror_mode": {
    "name": "ipython",
    "version": 2
   },
   "file_extension": ".py",
   "mimetype": "text/x-python",
   "name": "python",
   "nbconvert_exporter": "python",
   "pygments_lexer": "ipython2",
   "version": "2.7.6"
  }
 },
 "nbformat": 4,
 "nbformat_minor": 5
}
