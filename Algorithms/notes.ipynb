{
 "cells": [
  {
   "cell_type": "code",
   "execution_count": null,
   "id": "initial_id",
   "metadata": {
    "collapsed": true
   },
   "outputs": [],
   "source": [
    "\"\"\"\n",
    "SOME ALGORITHM NOTES:\n",
    "https://chatgpt.com/c/67bc57a0-9788-800f-9ed9-ca71f87b0f0a?model=gpt-4o\n",
    "\n",
    "\n",
    "PYTHON QUEUE\n",
    "https://realpython.com/python-deque/#:~:text=append()%20%2C%20which%20adds%20individual,left%20end%20of%20a%20deque.\n",
    "\n",
    "TOP LEVEL COD ENVIRONMENT __main__\n",
    "https://docs.python.org/3/library/__main__.html\n",
    "\n",
    "[:mid] [mid:] MEANING\n",
    "https://stackoverflow.com/questions/6167238/what-does-mean\n",
    "\n",
    "TIME COMPLEXITY\n",
    "https://github.com/bradtraversy/traversy-js-challenges/tree/main/05-complexity/01-what-is-time-complexity\n",
    "\n",
    "DICTIONARIES METHODS\n",
    "https://www.w3schools.com/python/python_ref_dictionary.asp\n",
    "\n",
    "my_dict = {}\n",
    "for i in range(10):\n",
    "    my_dict[i] = i+1\n",
    "print(\"keys:\", my_dict.keys())\n",
    "print(\"values:\", my_dict.values())\n",
    "print(\"my_dict:\", my_dict.items())\n",
    "\n",
    "SHORT FORM OF APPENDING NUMBERS IN ARRAY\n",
    "ten_times_one = [1 for i in range(10)]\n",
    "[1, 1, 1, 1, 1, 1, 1, 1, 1, 1]\n",
    "\n",
    "one_to_ten = [x for x in range(1,11)]\n",
    "[1, 2, 3, 4, 5, 6, 7, 8, 9, 10]\n",
    "**ALSO YOU CAN PUT SOME CONDITION END OF THE EXPRESSION\n",
    "\n",
    "\n",
    "COMPLEXITY\n",
    "https://codeots.medium.com/python-space-complexity-dbfe5aabdcd\n",
    "\n",
    "https://blog.devgenius.io/python-time-complexities-1988ec5d16d9#9795-ef543954b866\n",
    "\n",
    "TIME COMPLEXITY ANALYZER\n",
    "https://www.bigocalc.com/\n",
    "\n",
    "LINKED LISTS INTRODUCTION\n",
    "https://realpython.com/linked-lists-python/\n",
    "\n",
    "TECHNICAL INTERVIEW CHEATSHEET *****IMPORTANT*****\n",
    "https://leetcode.com/explore/interview/card/cheatsheets/\n",
    "\"\"\""
   ]
  },
  {
   "metadata": {},
   "cell_type": "markdown",
   "source": "",
   "id": "bf33082dfdcfb870"
  }
 ],
 "metadata": {
  "kernelspec": {
   "display_name": "Python 3",
   "language": "python",
   "name": "python3"
  },
  "language_info": {
   "codemirror_mode": {
    "name": "ipython",
    "version": 2
   },
   "file_extension": ".py",
   "mimetype": "text/x-python",
   "name": "python",
   "nbconvert_exporter": "python",
   "pygments_lexer": "ipython2",
   "version": "2.7.6"
  }
 },
 "nbformat": 4,
 "nbformat_minor": 5
}
