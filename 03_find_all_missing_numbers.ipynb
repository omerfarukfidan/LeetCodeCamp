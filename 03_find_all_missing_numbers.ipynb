{
 "cells": [
  {
   "metadata": {},
   "cell_type": "code",
   "outputs": [],
   "execution_count": null,
   "source": [
    "\"\"\"\n",
    "https://leetcode.com/problems/find-all-numbers-disappeared-in-an-array/description/\n",
    "448. Find All Numbers Disappeared in an Array\n",
    "Easy\n",
    "Topics\n",
    "Companies\n",
    "Hint\n",
    "Given an array nums of n integers where nums[i] is in the range [1, n], return an array of all the integers in the range [1, n] that do not appear in nums.\n",
    "\n",
    "\n",
    "\n",
    "Example 1:\n",
    "\n",
    "Input: nums = [4,3,2,7,8,2,3,1]\n",
    "Output: [5,6]\n",
    "Example 2:\n",
    "\n",
    "Input: nums = [1,1]\n",
    "Output: [2]\n",
    "\n",
    "\n",
    "Constraints:\n",
    "\n",
    "n == nums.length\n",
    "1 <= n <= 105\n",
    "1 <= nums[i] <= n\n",
    "\n",
    "\n",
    "Follow up: Could you do it without extra space and in O(n) runtime? You may assume the returned list does not count as extra space.\n",
    "\"\"\""
   ],
   "id": "b1bc024ad2935eea"
  },
  {
   "metadata": {},
   "cell_type": "code",
   "outputs": [],
   "execution_count": null,
   "source": [
    "\n",
    "class Solution:\n",
    "    def findDisappearedNumbers(self, nums: List[int]) -> List[int]:\n",
    "        ret = []\n",
    "        set_nums = set(nums)\n",
    "\n",
    "        for i in range (1, len(nums)+1):\n",
    "            if i not in set_nums:\n",
    "                ret.append(i)\n",
    "\n",
    "\n",
    "        return ret"
   ],
   "id": "f011068f305674ac"
  }
 ],
 "metadata": {},
 "nbformat": 5,
 "nbformat_minor": 9
}
