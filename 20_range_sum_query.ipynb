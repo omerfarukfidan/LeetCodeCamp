{
 "cells": [
  {
   "cell_type": "code",
   "execution_count": null,
   "id": "initial_id",
   "metadata": {
    "collapsed": true
   },
   "outputs": [],
   "source": [
    "\"\"\"\n",
    "https://leetcode.com/problems/range-sum-query-immutable/description/\n",
    "303. Range Sum Query - Immutable\n",
    "Solved\n",
    "Easy\n",
    "Topics\n",
    "Companies\n",
    "Given an integer array nums, handle multiple queries of the following type:\n",
    "\n",
    "Calculate the sum of the elements of nums between indices left and right inclusive where left <= right.\n",
    "Implement the NumArray class:\n",
    "\n",
    "NumArray(int[] nums) Initializes the object with the integer array nums.\n",
    "int sumRange(int left, int right) Returns the sum of the elements of nums between indices left and right inclusive (i.e. nums[left] + nums[left + 1] + ... + nums[right]).\n",
    "\n",
    "\n",
    "Example 1:\n",
    "\n",
    "Input\n",
    "[\"NumArray\", \"sumRange\", \"sumRange\", \"sumRange\"]\n",
    "[[[-2, 0, 3, -5, 2, -1]], [0, 2], [2, 5], [0, 5]]\n",
    "Output\n",
    "[null, 1, -1, -3]\n",
    "\n",
    "Explanation\n",
    "NumArray numArray = new NumArray([-2, 0, 3, -5, 2, -1]);\n",
    "numArray.sumRange(0, 2); // return (-2) + 0 + 3 = 1\n",
    "numArray.sumRange(2, 5); // return 3 + (-5) + 2 + (-1) = -1\n",
    "numArray.sumRange(0, 5); // return (-2) + 0 + 3 + (-5) + 2 + (-1) = -3\n",
    "\n",
    "\n",
    "Constraints:\n",
    "\n",
    "1 <= nums.length <= 104\n",
    "-105 <= nums[i] <= 105\n",
    "0 <= left <= right < nums.length\n",
    "At most 104 calls will be made to sumRange.\n",
    "\"\"\""
   ]
  },
  {
   "metadata": {},
   "cell_type": "code",
   "outputs": [],
   "execution_count": null,
   "source": [
    "class NumArray:\n",
    "\n",
    "    def __init__(self, nums: List[int]):\n",
    "        self.nums = nums\n",
    "\n",
    "    def sumRange(self, left: int, right: int) -> int:\n",
    "        #return sum(self.nums[left:right+1])\n",
    "        sum_of = 0\n",
    "        for i in range(left,right+1):\n",
    "            sum_of += self.nums[i]\n",
    "        return sum_of\n",
    "\n",
    "\n",
    "# Your NumArray object will be instantiated and called as such:\n",
    "# obj = NumArray(nums)\n",
    "# param_1 = obj.sumRange(left,right)"
   ],
   "id": "60cd06d3a84d92b4"
  },
  {
   "metadata": {},
   "cell_type": "code",
   "outputs": [],
   "execution_count": null,
   "source": "#1 more solutıon in the video with dp",
   "id": "5bb9614fc22a4eef"
  }
 ],
 "metadata": {
  "kernelspec": {
   "display_name": "Python 3",
   "language": "python",
   "name": "python3"
  },
  "language_info": {
   "codemirror_mode": {
    "name": "ipython",
    "version": 2
   },
   "file_extension": ".py",
   "mimetype": "text/x-python",
   "name": "python",
   "nbconvert_exporter": "python",
   "pygments_lexer": "ipython2",
   "version": "2.7.6"
  }
 },
 "nbformat": 4,
 "nbformat_minor": 5
}
