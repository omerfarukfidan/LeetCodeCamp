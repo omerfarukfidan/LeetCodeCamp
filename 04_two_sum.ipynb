{
 "cells": [
  {
   "metadata": {},
   "cell_type": "code",
   "outputs": [],
   "execution_count": null,
   "source": [
    "\"\"\"\n",
    "https://leetcode.com/problems/two-sum/description/\n",
    "1. Two Sum\n",
    "Attempted\n",
    "Easy\n",
    "Topics\n",
    "Companies\n",
    "Hint\n",
    "Given an array of integers nums and an integer target, return indices of the two numbers such that they add up to target.\n",
    "\n",
    "You may assume that each input would have exactly one solution, and you may not use the same element twice.\n",
    "\n",
    "You can return the answer in any order.\n",
    "\n",
    "\n",
    "\n",
    "Example 1:\n",
    "\n",
    "Input: nums = [2,7,11,15], target = 9\n",
    "Output: [0,1]\n",
    "Explanation: Because nums[0] + nums[1] == 9, we return [0, 1].\n",
    "Example 2:\n",
    "\n",
    "Input: nums = [3,2,4], target = 6\n",
    "Output: [1,2]\n",
    "Example 3:\n",
    "\n",
    "Input: nums = [3,3], target = 6\n",
    "Output: [0,1]\n",
    "\n",
    "\n",
    "Constraints:\n",
    "\n",
    "2 <= nums.length <= 104\n",
    "-109 <= nums[i] <= 109\n",
    "-109 <= target <= 109\n",
    "Only one valid answer exists.\n",
    "\n",
    "\n",
    "Follow-up: Can you come up with an algorithm that is less than O(n2) time complexity?\n",
    "\"\"\""
   ],
   "id": "39444d6c448cae80"
  },
  {
   "metadata": {
    "ExecuteTime": {
     "end_time": "2025-02-13T12:13:14.580382Z",
     "start_time": "2025-02-13T12:13:14.540058Z"
    }
   },
   "cell_type": "code",
   "source": [
    "\"\"\"\n",
    "bunu zaten çözmüşssün sonra dön\n",
    "buna\n",
    "\n",
    "https://leetcode.com/problems/two-sum/\n",
    "\"\"\""
   ],
   "id": "7d4fdac52658a95f",
   "outputs": [
    {
     "data": {
      "text/plain": [
       "'\\nbunu zaten çözmüşssün sonra dön\\nbuna \\n'"
      ]
     },
     "execution_count": 1,
     "metadata": {},
     "output_type": "execute_result"
    }
   ],
   "execution_count": 1
  }
 ],
 "metadata": {
  "kernelspec": {
   "name": "python3",
   "language": "python",
   "display_name": "Python 3 (ipykernel)"
  }
 },
 "nbformat": 5,
 "nbformat_minor": 9
}
