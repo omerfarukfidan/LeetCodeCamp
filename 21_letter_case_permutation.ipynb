{
 "cells": [
  {
   "cell_type": "code",
   "execution_count": null,
   "id": "initial_id",
   "metadata": {
    "collapsed": true
   },
   "outputs": [],
   "source": [
    "\"\"\"\n",
    "https://leetcode.com/problems/letter-case-permutation/description/\n",
    "784. Letter Case Permutation\n",
    "Medium\n",
    "Topics\n",
    "Companies\n",
    "Given a string s, you can transform every letter individually to be lowercase or uppercase to create another string.\n",
    "\n",
    "Return a list of all possible strings we could create. Return the output in any order.\n",
    "\n",
    "\n",
    "\n",
    "Example 1:\n",
    "\n",
    "Input: s = \"a1b2\"\n",
    "Output: [\"a1b2\",\"a1B2\",\"A1b2\",\"A1B2\"]\n",
    "Example 2:\n",
    "\n",
    "Input: s = \"3z4\"\n",
    "Output: [\"3z4\",\"3Z4\"]\n",
    "\n",
    "\n",
    "Constraints:\n",
    "\n",
    "1 <= s.length <= 12\n",
    "s consists of lowercase English letters, uppercase English letters, and digits.\n",
    "\"\"\""
   ]
  },
  {
   "metadata": {},
   "cell_type": "code",
   "outputs": [],
   "execution_count": null,
   "source": [
    "#VIDEO SOLUTION BRUTE FORCE\n",
    "class Solution:\n",
    "    def letterCasePermutation(self, s: str) -> List[str]:\n",
    "        output = [\"\"]\n",
    "\n",
    "        for letter in s:\n",
    "            temp = []\n",
    "            if letter.isalpha():\n",
    "                for o in output:\n",
    "                    temp.append(o+letter.upper())\n",
    "                    temp.append(o+letter.lower())\n",
    "            else:\n",
    "                for o in output:\n",
    "                    temp.append(o+letter)\n",
    "            output = temp\n",
    "\n",
    "        return output"
   ],
   "id": "4f6185f3cce38de8"
  },
  {
   "metadata": {},
   "cell_type": "code",
   "outputs": [],
   "execution_count": null,
   "source": [
    "#VIDEO SOLUTION RECURSIVE BACKTRACKING\n",
    "class Solution:\n",
    "    def letterCasePermutation(self, s: str) -> List[str]:\n",
    "        res = []\n",
    "\n",
    "        def backtrack(sub = \"\", i = 0):\n",
    "            if len(sub) == len(s):\n",
    "                res.append(sub)\n",
    "                return\n",
    "            if s[i].isalpha():\n",
    "                backtrack(sub + s[i].swapcase(), i+1)\n",
    "            backtrack(sub + s[i], i+1)\n",
    "\n",
    "\n",
    "        backtrack()\n",
    "        return res"
   ],
   "id": "31a0bd39baa9570a"
  }
 ],
 "metadata": {
  "kernelspec": {
   "display_name": "Python 3",
   "language": "python",
   "name": "python3"
  },
  "language_info": {
   "codemirror_mode": {
    "name": "ipython",
    "version": 2
   },
   "file_extension": ".py",
   "mimetype": "text/x-python",
   "name": "python",
   "nbconvert_exporter": "python",
   "pygments_lexer": "ipython2",
   "version": "2.7.6"
  }
 },
 "nbformat": 4,
 "nbformat_minor": 5
}
