{
 "cells": [
  {
   "metadata": {},
   "cell_type": "code",
   "outputs": [],
   "execution_count": null,
   "source": [
    "\"\"\"\n",
    "https://leetcode.com/problems/spiral-matrix/description/\n",
    "54. Spiral Matrix\n",
    "Medium\n",
    "Topics\n",
    "Companies\n",
    "Hint\n",
    "Given an m x n matrix, return all elements of the matrix in spiral order.\n",
    "\n",
    "\n",
    "\n",
    "Example 1:\n",
    "\n",
    "\n",
    "Input: matrix = [[1,2,3],[4,5,6],[7,8,9]]\n",
    "Output: [1,2,3,6,9,8,7,4,5]\n",
    "Example 2:\n",
    "\n",
    "\n",
    "Input: matrix = [[1,2,3,4],[5,6,7,8],[9,10,11,12]]\n",
    "Output: [1,2,3,4,8,12,11,10,9,5,6,7]\n",
    "\n",
    "\n",
    "Constraints:\n",
    "\n",
    "m == matrix.length\n",
    "n == matrix[i].length\n",
    "1 <= m, n <= 10\n",
    "-100 <= matrix[i][j] <= 100\n",
    "\"\"\""
   ],
   "id": "2a0cf2fd48ea7b5a"
  },
  {
   "metadata": {},
   "cell_type": "code",
   "outputs": [],
   "execution_count": null,
   "source": [
    "#Bu soruya geri dön alternatif çözüme bak dakika 43.56\n",
    "#https://www.youtube.com/watch?v=lvO88XxNAzs&t=2354s\n",
    "class Solution:\n",
    "    def spiralOrder(self, matrix: List[List[int]]) -> List[int]:\n",
    "        ret = []\n",
    "\n",
    "        while matrix:\n",
    "            ret += matrix.pop(0)\n",
    "            if matrix and matrix[0]:\n",
    "                for row in matrix:\n",
    "                    ret.append(row.pop())\n",
    "\n",
    "            if matrix:\n",
    "                ret += matrix.pop()[::-1]\n",
    "\n",
    "            if matrix and matrix[0]:\n",
    "                for row in matrix[::-1]:\n",
    "                    ret.append(row.pop(0))\n",
    "\n",
    "        return ret"
   ],
   "id": "9a5df68cf7900c4"
  }
 ],
 "metadata": {
  "kernelspec": {
   "name": "python3",
   "language": "python",
   "display_name": "Python 3 (ipykernel)"
  }
 },
 "nbformat": 5,
 "nbformat_minor": 9
}
