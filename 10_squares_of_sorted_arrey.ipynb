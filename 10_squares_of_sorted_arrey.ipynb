{
 "cells": [
  {
   "metadata": {},
   "cell_type": "code",
   "outputs": [],
   "execution_count": null,
   "source": [
    "\"\"\"\n",
    "https://leetcode.com/problems/squares-of-a-sorted-array/description/\n",
    "977. Squares of a Sorted Array\n",
    "Easy\n",
    "Topics\n",
    "Companies\n",
    "Given an integer array nums sorted in non-decreasing order, return an array of the squares of each number sorted in non-decreasing order.\n",
    "\n",
    "\n",
    "\n",
    "Example 1:\n",
    "\n",
    "Input: nums = [-4,-1,0,3,10]\n",
    "Output: [0,1,9,16,100]\n",
    "Explanation: After squaring, the array becomes [16,1,0,9,100].\n",
    "After sorting, it becomes [0,1,9,16,100].\n",
    "Example 2:\n",
    "\n",
    "Input: nums = [-7,-3,2,3,11]\n",
    "Output: [4,9,9,49,121]\n",
    "\n",
    "\n",
    "Constraints:\n",
    "\n",
    "1 <= nums.length <= 104\n",
    "-104 <= nums[i] <= 104\n",
    "nums is sorted in non-decreasing order.\n",
    "\n",
    "\n",
    "Follow up: Squaring each element and sorting the new array is very trivial, could you find an O(n) solution using a different approach?\n",
    "\"\"\""
   ],
   "id": "64f47011d637fa0c"
  },
  {
   "metadata": {},
   "cell_type": "code",
   "outputs": [],
   "execution_count": null,
   "source": [
    "#MY ANSWER O(n.log(n))\n",
    "class Solution:\n",
    "    def sortedSquares(self, nums: List[int]) -> List[int]:\n",
    "\n",
    "        for i, v in enumerate(nums):\n",
    "            nums[i] = v**2\n",
    "\n",
    "        nums.sort()\n",
    "\n",
    "        return nums"
   ],
   "id": "f4227839f5e23ea3"
  },
  {
   "metadata": {},
   "cell_type": "code",
   "outputs": [],
   "execution_count": null,
   "source": [
    "#SAME WAY BUT SHORTER CODE O(n.log(n))\n",
    "    class Solution:\n",
    "    def sortedSquares(self, nums: List[int]) -> List[int]:\n",
    "\n",
    "        sqred_list = [num**2 for num in nums]\n",
    "        sqred_list.sort()\n",
    "        return sqred_list"
   ],
   "id": "536f38a029960d55"
  },
  {
   "metadata": {},
   "cell_type": "code",
   "outputs": [],
   "execution_count": null,
   "source": "#VİDEONUN 1.02.40 . DK SINDAN İTİBAREN İKİ ÇÖZÜM DAHA VAR BUNLARI DA YAZMLASIN.",
   "id": "e359feb767889761"
  }
 ],
 "metadata": {},
 "nbformat": 5,
 "nbformat_minor": 9
}
