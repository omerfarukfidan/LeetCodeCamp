{
 "cells": [
  {
   "metadata": {},
   "cell_type": "code",
   "outputs": [],
   "execution_count": null,
   "source": [
    "\"\"\"\n",
    "https://leetcode.com/problems/two-sum/description/\n",
    "1. Two Sum\n",
    "Attempted\n",
    "Easy\n",
    "Topics\n",
    "Companies\n",
    "Hint\n",
    "Given an array of integers nums and an integer target, return indices of the two numbers such that they add up to target.\n",
    "\n",
    "You may assume that each input would have exactly one solution, and you may not use the same element twice.\n",
    "\n",
    "You can return the answer in any order.\n",
    "\n",
    "\n",
    "\n",
    "Example 1:\n",
    "\n",
    "Input: nums = [2,7,11,15], target = 9\n",
    "Output: [0,1]\n",
    "Explanation: Because nums[0] + nums[1] == 9, we return [0, 1].\n",
    "Example 2:\n",
    "\n",
    "Input: nums = [3,2,4], target = 6\n",
    "Output: [1,2]\n",
    "Example 3:\n",
    "\n",
    "Input: nums = [3,3], target = 6\n",
    "Output: [0,1]\n",
    "\n",
    "\n",
    "Constraints:\n",
    "\n",
    "2 <= nums.length <= 104\n",
    "-109 <= nums[i] <= 109\n",
    "-109 <= target <= 109\n",
    "Only one valid answer exists.\n",
    "\n",
    "\n",
    "Follow-up: Can you come up with an algorithm that is less than O(n2) time complexity?\n",
    "\"\"\""
   ],
   "id": "39444d6c448cae80"
  },
  {
   "metadata": {},
   "cell_type": "code",
   "outputs": [],
   "execution_count": null,
   "source": [
    "#MY SOLUTION WITH n^2\n",
    "class Solution:\n",
    "    def twoSum(self, nums: List[int], target: int) -> List[int]:\n",
    "\n",
    "         for index, value in enumerate(nums):\n",
    "            for i in range(index+1, len(nums)):\n",
    "                if value+nums[i] == target:\n",
    "                    return [index, i]"
   ],
   "id": "a3f4eaea3e135a92"
  },
  {
   "metadata": {},
   "cell_type": "code",
   "outputs": [],
   "execution_count": null,
   "source": [
    "#MY SECOND SOLUTION n^2\n",
    "class Solution:\n",
    "    def twoSum(self, nums: List[int], target: int) -> List[int]:\n",
    "        counter = 0\n",
    "        left, right = 0, 1\n",
    "\n",
    "        while right < len(nums):\n",
    "            if nums[left]+nums[right] == target:\n",
    "                return [left,right]\n",
    "            else:\n",
    "                right += 1\n",
    "\n",
    "            if right == len(nums):\n",
    "                counter += 1\n",
    "                right = counter+1\n",
    "                left += 1"
   ],
   "id": "9b56d6208f5a7fa0"
  },
  {
   "metadata": {},
   "cell_type": "code",
   "outputs": [],
   "execution_count": null,
   "source": "#ANOTHER WAY TO SOLVE THIS QUESTION COULD BE USING HASH MAP",
   "id": "4b2e9730c896d36c"
  },
  {
   "metadata": {},
   "cell_type": "code",
   "outputs": [],
   "execution_count": null,
   "source": [
    "#19.03.2025 SOLUTION\n",
    "class Solution:\n",
    "    def twoSum(self, nums: List[int], target: int) -> List[int]:\n",
    "\n",
    "        left = 0\n",
    "        right = 1\n",
    "        while left < len(nums):\n",
    "            if right < len(nums) and nums[left]+nums[right] == target:\n",
    "                return [left, right]\n",
    "            elif right < len(nums) and nums[left]+nums[right] != target:\n",
    "                right += 1\n",
    "            else:\n",
    "                left += 1\n",
    "                right = left + 1"
   ],
   "id": "1f9aae2e3c730890"
  }
 ],
 "metadata": {
  "kernelspec": {
   "name": "python3",
   "language": "python",
   "display_name": "Python 3 (ipykernel)"
  }
 },
 "nbformat": 5,
 "nbformat_minor": 9
}
