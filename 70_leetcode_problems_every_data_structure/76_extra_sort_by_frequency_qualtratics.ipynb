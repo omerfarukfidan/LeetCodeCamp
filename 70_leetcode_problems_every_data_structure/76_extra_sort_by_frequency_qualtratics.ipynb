{
 "cells": [
  {
   "metadata": {},
   "cell_type": "code",
   "outputs": [],
   "execution_count": null,
   "source": [
    "\"\"\"\n",
    "https://leetcode.com/problems/sort-array-by-increasing-frequency/\n",
    "1636. Sort Array by Increasing Frequency\n",
    "Easy\n",
    "Topics\n",
    "Companies\n",
    "Hint\n",
    "Given an array of integers nums, sort the array in increasing order based on the frequency of the values. If multiple values have the same frequency, sort them in decreasing order.\n",
    "\n",
    "Return the sorted array.\n",
    "\n",
    "\n",
    "\n",
    "Example 1:\n",
    "\n",
    "Input: nums = [1,1,2,2,2,3]\n",
    "Output: [3,1,1,2,2,2]\n",
    "Explanation: '3' has a frequency of 1, '1' has a frequency of 2, and '2' has a frequency of 3.\n",
    "Example 2:\n",
    "\n",
    "Input: nums = [2,3,1,3,2]\n",
    "Output: [1,3,3,2,2]\n",
    "Explanation: '2' and '3' both have a frequency of 2, so they are sorted in decreasing order.\n",
    "Example 3:\n",
    "\n",
    "Input: nums = [-1,1,-6,4,5,-6,1,4,1]\n",
    "Output: [5,-1,4,4,-6,-6,1,1,1]\n",
    "\n",
    "\n",
    "Constraints:\n",
    "\n",
    "1 <= nums.length <= 100\n",
    "-100 <= nums[i] <= 100\n",
    "\"\"\""
   ],
   "id": "489ab35d41ff1106"
  },
  {
   "metadata": {},
   "cell_type": "code",
   "outputs": [],
   "execution_count": null,
   "source": [
    "class Solution:\n",
    "    def frequencySort(self, nums: List[int]) -> List[int]:\n",
    "\n",
    "        frequency = {}\n",
    "        for value in nums:\n",
    "            if value in frequency:\n",
    "                frequency[value] += 1\n",
    "            else:\n",
    "                frequency[value] = 1\n",
    "\n",
    "        reversed_frequency = {}\n",
    "        for item, freq in frequency.items():\n",
    "            if freq in reversed_frequency:\n",
    "                reversed_frequency[freq].append(item)\n",
    "            else:\n",
    "                reversed_frequency[freq] = [item]\n",
    "\n",
    "        sorted_frequency = reversed_frequency\n",
    "        for freq, item in sorted_frequency.items():\n",
    "            if len(item) > 1:\n",
    "                item.sort(reverse = True)\n",
    "            else:\n",
    "                item.sort()\n",
    "\n",
    "        #{2: [3, 2], 1: [1]}\n",
    "        #{1: [5, -1], 3: [1], 2: [4, -6]}\n",
    "        reval_dict = dict(sorted(sorted_frequency.items()))\n",
    "        retval = []\n",
    "        for freq, items in reval_dict.items():\n",
    "            for item in items:\n",
    "                retval.extend([item]*freq) #retval += [val] * freq\n",
    "\n",
    "        return retval\n"
   ],
   "id": "93606826e5c16f2b"
  },
  {
   "metadata": {},
   "cell_type": "code",
   "outputs": [],
   "execution_count": null,
   "source": [
    "\"\"\"\n",
    "Python'da listelerle çalışırken:\n",
    "append() metodu, parametrede verilen tek bir nesneyi (elemanı) listenin sonuna ekler. Eğer bu nesne bir liste (örneğin [3, 4]) ise, tamamını tek bir öğe olarak ekler:\n",
    "\"\"\""
   ],
   "id": "1774826b6b3b2905"
  },
  {
   "metadata": {},
   "cell_type": "code",
   "outputs": [],
   "execution_count": null,
   "source": [
    "a = [1, 2]\n",
    "a.append([3, 4])\n",
    "print(a)  # Çıktı: [1, 2, [3, 4]]\n"
   ],
   "id": "40f8b02a45e12420"
  },
  {
   "metadata": {},
   "cell_type": "code",
   "outputs": [],
   "execution_count": null,
   "source": [
    "\"\"\"\n",
    "Gördüğünüz gibi [3,4] listenin tek bir elemanı oldu.\n",
    "\n",
    "extend() metodu ise, parametrede verilen iterable (örneğin başka bir liste) içindeki her bir elemanı, ayrı ayrı listeye ekler:\n",
    "\"\"\""
   ],
   "id": "23db8784a084f8e4"
  },
  {
   "metadata": {},
   "cell_type": "code",
   "outputs": [],
   "execution_count": null,
   "source": [
    "b = [1, 2]\n",
    "b.extend([3, 4])\n",
    "print(b)  # Çıktı: [1, 2, 3, 4]\n"
   ],
   "id": "3a1a922459872f94"
  },
  {
   "metadata": {},
   "cell_type": "code",
   "outputs": [],
   "execution_count": null,
   "source": [
    "\"\"\"\n",
    "Burada [3, 4] içindeki her bir eleman listeye eklenmiştir.\n",
    "\n",
    "Dolayısıyla, append bir liste eklemek istersek, listeye bir “liste nesnesi” eklemiş oluruz. extend bir liste eklemek istersek, eklemek istediğimiz listenin elemanlarını ayrı ayrı mevcut listeye eklemiş oluruz.\n",
    "\n",
    "Eğer extend içine doğrudan item * freq yazarsanız ve item bir sayı ise, item * freq bir integer sonucu döndürür (örneğin 4 * 2 = 8). Bu, bir iterable değildir (tek bir sayı) ve Python buna itiraz eder (TypeError: 'int' object is not iterable).\n",
    "Dolayısıyla, extend yöntemiyle aynı elemanı birden fazla kez eklemek istiyorsak, o elemanı tekrarlayarak bir liste oluşturup ([item] * freq), bu listeyi extend ile eklemeliyiz:\n",
    "\"\"\""
   ],
   "id": "45a3486b0959d8cc"
  }
 ],
 "metadata": {},
 "nbformat": 5,
 "nbformat_minor": 9
}
