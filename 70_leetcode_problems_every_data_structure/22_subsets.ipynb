{
 "cells": [
  {
   "cell_type": "code",
   "execution_count": null,
   "id": "initial_id",
   "metadata": {
    "collapsed": true
   },
   "outputs": [],
   "source": [
    "\"\"\"\n",
    "https://leetcode.com/problems/subsets/description/\n",
    "78. Subsets\n",
    "Medium\n",
    "Topics\n",
    "Companies\n",
    "Given an integer array nums of unique elements, return all possible subsets (the power set).\n",
    "\n",
    "The solution set must not contain duplicate subsets. Return the solution in any order.\n",
    "\n",
    "\n",
    "\n",
    "Example 1:\n",
    "\n",
    "Input: nums = [1,2,3]\n",
    "Output: [[],[1],[2],[1,2],[3],[1,3],[2,3],[1,2,3]]\n",
    "Example 2:\n",
    "\n",
    "Input: nums = [0]\n",
    "Output: [[],[0]]\n",
    "\n",
    "\n",
    "Constraints:\n",
    "\n",
    "1 <= nums.length <= 10\n",
    "-10 <= nums[i] <= 10\n",
    "All the numbers of nums are unique.\n",
    "\"\"\""
   ]
  },
  {
   "metadata": {},
   "cell_type": "code",
   "outputs": [],
   "execution_count": null,
   "source": [
    "#MY SOLUTION\n",
    "class Solution:\n",
    "    def subsets(self, nums: List[int]) -> List[List[int]]:\n",
    "        retval = []\n",
    "        flag = 0\n",
    "        for num in nums:\n",
    "            temp = []\n",
    "            if flag == 0:\n",
    "                retval.append([])\n",
    "                retval.append([num])\n",
    "                flag += 1\n",
    "            else:\n",
    "                for value in retval:\n",
    "                    temp.append(value+[num])\n",
    "                retval.extend(temp)\n",
    "\n",
    "        return retval\n"
   ],
   "id": "3a417babef6ac458"
  },
  {
   "metadata": {},
   "cell_type": "markdown",
   "source": [
    "Shallow copy in Python\n",
    "A shallow copy creates a new object but retains references to the objects contained within the original. It only copies the top-level structure without duplicating nested elements.\n",
    "Changes made to a copy of an object do reflect in the original object. In python, this is implemented using the “copy.copy()” function.\n",
    "\n",
    "THIS METHOD CAN BE BENEFICIAL\n",
    "BUT OTHER WAY TO DO IT IS: result.append(path[:]) it copies the path to result\n",
    "\n"
   ],
   "id": "d6641f9cc227ec2c"
  },
  {
   "metadata": {},
   "cell_type": "code",
   "outputs": [],
   "execution_count": null,
   "source": [
    "#ONE MORE SOLUTION IN THE VIDEO\n",
    "class Solution:\n",
    "    def subsets(self, nums: List[int]) -> List[List[int]]:\n",
    "\n",
    "        def backtrack(start, path):\n",
    "            retval.append(path[:])\n",
    "\n",
    "            for i in range(start, len(nums)):\n",
    "                path.append(nums[i])\n",
    "                backtrack(i+1,path)\n",
    "\n",
    "                path.pop()\n",
    "        retval = []\n",
    "        backtrack(0, [])\n",
    "        return retval"
   ],
   "id": "a2e8065a1d0e68ac"
  }
 ],
 "metadata": {
  "kernelspec": {
   "display_name": "Python 3",
   "language": "python",
   "name": "python3"
  },
  "language_info": {
   "codemirror_mode": {
    "name": "ipython",
    "version": 2
   },
   "file_extension": ".py",
   "mimetype": "text/x-python",
   "name": "python",
   "nbconvert_exporter": "python",
   "pygments_lexer": "ipython2",
   "version": "2.7.6"
  }
 },
 "nbformat": 4,
 "nbformat_minor": 5
}
